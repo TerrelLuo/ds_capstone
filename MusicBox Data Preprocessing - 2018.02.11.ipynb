{
 "cells": [
  {
   "cell_type": "markdown",
   "metadata": {},
   "source": [
    "# 1. Extract data from Web"
   ]
  },
  {
   "cell_type": "code",
   "execution_count": 66,
   "metadata": {
    "collapsed": true
   },
   "outputs": [],
   "source": [
    "# import cgi module to extract web content\n",
    "import requests, re, sys"
   ]
  },
  {
   "cell_type": "code",
   "execution_count": 97,
   "metadata": {
    "collapsed": true
   },
   "outputs": [],
   "source": [
    "url = r'https://bittigermusicplayerdata.s3-us-west-2.amazonaws.com'\n",
    "\n",
    "try:\n",
    "    source = requests.get(url)\n",
    "except requests.ConnectionError:\n",
    "    sys.stderr.write('Link is invalid.')"
   ]
  },
  {
   "cell_type": "code",
   "execution_count": 110,
   "metadata": {
    "collapsed": true
   },
   "outputs": [],
   "source": [
    "from bs4 import BeautifulSoup\n",
    "\n",
    "# beautiful soup is a package to pretify the html content display.\n",
    "# create beautiful soup object \n",
    "#soup = BeautifulSoup(source.content, 'lxml')\n",
    "#print(soup.prettify())\n",
    "\n",
    "# use regular expression to extract download content\n",
    "pattern = re.compile(r'''<key>(.*?)</key>''',re.I)\n",
    "download_lists = pattern.findall(source.text)\n",
    "\n",
    "# download the contents and save to files\n",
    "\n",
    "for link in download_lists:\n",
    "    with open(r'./data/'+link,'wb') as f:\n",
    "        for chunk in requests.get(url+r'/'+link, stream = True).iter_content(chunk_size = 1024):\n",
    "            if chunk:\n",
    "                f.write(chunk)\n",
    "        "
   ]
  },
  {
   "cell_type": "markdown",
   "metadata": {},
   "source": [
    "# 2. Unzip the tar.gz and gz files respectively"
   ]
  },
  {
   "cell_type": "code",
   "execution_count": 21,
   "metadata": {},
   "outputs": [
    {
     "name": "stderr",
     "output_type": "stream",
     "text": [
      "20170424_1_play.log.tar.gz20170424_2_play.log.tar.gz"
     ]
    },
    {
     "name": "stdout",
     "output_type": "stream",
     "text": [
      "409\n"
     ]
    }
   ],
   "source": [
    "import os, tarfile, gzip,sys\n",
    "\n",
    "zippath = r'./Data'\n",
    "unzippath = r'./UnzipData'\n",
    "\n",
    "# access the zip files, unzip them, and write them into another folder.\n",
    "zipfiles = os.listdir(zippath)\n",
    "counter = 0\n",
    "\n",
    "for file in zipfiles:\n",
    "    counter += 1 # ensure walk through all files\n",
    "    if file[-6:] == 'tar.gz':\n",
    "        try: \n",
    "            with tarfile.open(os.path.join(zippath, file), 'r|gz') as inhandle:\n",
    "                inhandle.extractall(os.path.join(unzippath,file))\n",
    "        except tarfile.ReadError:\n",
    "            sys.stderr.write(file)\n",
    "     \n",
    "    elif file[-2:] =='gz':\n",
    "    \n",
    "        with gzip.GzipFile(os.path.join(zippath, file), 'rb') as inhandle:\n",
    "            content = inhandle.read()\n",
    "        with open(os.path.join(unzippath, file[:file.rfind('.')]), 'wb') as outhandle:\n",
    "            outhandle.write(content)\n",
    "    else:  \n",
    "        \n",
    "        with open(os.path.join(zippath,file),'rb') as inhandle:\n",
    "            content = inhandle.read()\n",
    "        with open(os.path.join(unzippath, file), 'wb') as outhandle:\n",
    "            outhandle.write(content)\n",
    "    \n",
    "print (counter) # ensure walk through all files"
   ]
  },
  {
   "cell_type": "markdown",
   "metadata": {},
   "source": [
    "# 3. Pre-process play.log files"
   ]
  },
  {
   "cell_type": "code",
   "execution_count": 1,
   "metadata": {
    "collapsed": true
   },
   "outputs": [],
   "source": [
    "import pandas as pd\n",
    "import numpy as np\n",
    "import matplotlib.pyplot as plt\n",
    "import os\n",
    "\n",
    "%matplotlib inline\n",
    "\n",
    "zippath = r'./Data'\n",
    "unzippath = r'./UnzipData'"
   ]
  },
  {
   "cell_type": "markdown",
   "metadata": {},
   "source": [
    "### 1. load one file as an example"
   ]
  },
  {
   "cell_type": "code",
   "execution_count": 7,
   "metadata": {},
   "outputs": [
    {
     "name": "stdout",
     "output_type": "stream",
     "text": [
      "<class 'pandas.core.frame.DataFrame'>\n",
      "RangeIndex: 2453607 entries, 0 to 2453606\n",
      "Data columns (total 9 columns):\n",
      "uid            object\n",
      "device         object\n",
      "song_id        object\n",
      "song_type      object\n",
      "song_name      object\n",
      "singer         object\n",
      "play_time      object\n",
      "song_length    object\n",
      "paid_flag      object\n",
      "dtypes: object(9)\n",
      "memory usage: 168.5+ MB\n"
     ]
    }
   ],
   "source": [
    "# take one play.log to explore the data\n",
    "\n",
    "filename = '20170302_1_play.log'\n",
    "\n",
    "schema = ['uid','device','song_id','song_type','song_name','singer','play_time','song_length','paid_flag']\n",
    "df = pd.read_csv(os.path.join(unzippath, filename), sep = '\\t+',header = None, index_col = None, names = schema, usecols = [0,1,2,3,4,5,6,7,8], engine = 'python')\n",
    "\n",
    "df.info()"
   ]
  },
  {
   "cell_type": "code",
   "execution_count": null,
   "metadata": {
    "collapsed": true
   },
   "outputs": [],
   "source": []
  },
  {
   "cell_type": "code",
   "execution_count": 9,
   "metadata": {},
   "outputs": [
    {
     "data": {
      "text/html": [
       "<div>\n",
       "<style scoped>\n",
       "    .dataframe tbody tr th:only-of-type {\n",
       "        vertical-align: middle;\n",
       "    }\n",
       "\n",
       "    .dataframe tbody tr th {\n",
       "        vertical-align: top;\n",
       "    }\n",
       "\n",
       "    .dataframe thead th {\n",
       "        text-align: right;\n",
       "    }\n",
       "</style>\n",
       "<table border=\"1\" class=\"dataframe\">\n",
       "  <thead>\n",
       "    <tr style=\"text-align: right;\">\n",
       "      <th></th>\n",
       "      <th>uid</th>\n",
       "      <th>device</th>\n",
       "      <th>song_id</th>\n",
       "      <th>song_type</th>\n",
       "      <th>song_name</th>\n",
       "      <th>singer</th>\n",
       "      <th>play_time</th>\n",
       "      <th>song_length</th>\n",
       "      <th>paid_flag</th>\n",
       "    </tr>\n",
       "  </thead>\n",
       "  <tbody>\n",
       "    <tr>\n",
       "      <th>0</th>\n",
       "      <td>264715</td>\n",
       "      <td>None</td>\n",
       "      <td>None</td>\n",
       "      <td>None</td>\n",
       "      <td>None</td>\n",
       "      <td>None</td>\n",
       "      <td>None</td>\n",
       "      <td>None</td>\n",
       "      <td>None</td>\n",
       "    </tr>\n",
       "    <tr>\n",
       "      <th>1</th>\n",
       "      <td>292363</td>\n",
       "      <td>None</td>\n",
       "      <td>None</td>\n",
       "      <td>None</td>\n",
       "      <td>None</td>\n",
       "      <td>None</td>\n",
       "      <td>None</td>\n",
       "      <td>None</td>\n",
       "      <td>None</td>\n",
       "    </tr>\n",
       "    <tr>\n",
       "      <th>2</th>\n",
       "      <td>154824972</td>\n",
       "      <td>ar</td>\n",
       "      <td>3300104</td>\n",
       "      <td>0</td>\n",
       "      <td>Not A Love Song</td>\n",
       "      <td>Bean</td>\n",
       "      <td>22</td>\n",
       "      <td>178</td>\n",
       "      <td>0</td>\n",
       "    </tr>\n",
       "    <tr>\n",
       "      <th>3</th>\n",
       "      <td>154431666</td>\n",
       "      <td>ar</td>\n",
       "      <td>6651913</td>\n",
       "      <td>0</td>\n",
       "      <td>再见只是陌生人</td>\n",
       "      <td>庄心妍</td>\n",
       "      <td>252</td>\n",
       "      <td>251</td>\n",
       "      <td>0</td>\n",
       "    </tr>\n",
       "    <tr>\n",
       "      <th>4</th>\n",
       "      <td>154439430</td>\n",
       "      <td>ar</td>\n",
       "      <td>20870987</td>\n",
       "      <td>0</td>\n",
       "      <td>哥哥</td>\n",
       "      <td>张杰</td>\n",
       "      <td>358</td>\n",
       "      <td>358</td>\n",
       "      <td>0</td>\n",
       "    </tr>\n",
       "  </tbody>\n",
       "</table>\n",
       "</div>"
      ],
      "text/plain": [
       "          uid device    song_id song_type         song_name singer play_time  \\\n",
       "0      264715   None       None      None              None   None      None   \n",
       "1      292363   None       None      None              None   None      None   \n",
       "2  154824972     ar    3300104         0   Not A Love Song   Bean        22    \n",
       "3  154431666     ar    6651913         0           再见只是陌生人    庄心妍       252    \n",
       "4  154439430     ar   20870987         0                哥哥     张杰       358    \n",
       "\n",
       "  song_length paid_flag  \n",
       "0        None      None  \n",
       "1        None      None  \n",
       "2        178          0  \n",
       "3        251          0  \n",
       "4        358          0  "
      ]
     },
     "execution_count": 9,
     "metadata": {},
     "output_type": "execute_result"
    }
   ],
   "source": [
    "df.head()"
   ]
  },
  {
   "cell_type": "code",
   "execution_count": 10,
   "metadata": {},
   "outputs": [
    {
     "data": {
      "text/html": [
       "<div>\n",
       "<style scoped>\n",
       "    .dataframe tbody tr th:only-of-type {\n",
       "        vertical-align: middle;\n",
       "    }\n",
       "\n",
       "    .dataframe tbody tr th {\n",
       "        vertical-align: top;\n",
       "    }\n",
       "\n",
       "    .dataframe thead th {\n",
       "        text-align: right;\n",
       "    }\n",
       "</style>\n",
       "<table border=\"1\" class=\"dataframe\">\n",
       "  <thead>\n",
       "    <tr style=\"text-align: right;\">\n",
       "      <th></th>\n",
       "      <th>miss cnt</th>\n",
       "      <th>miss prcnt %</th>\n",
       "    </tr>\n",
       "  </thead>\n",
       "  <tbody>\n",
       "    <tr>\n",
       "      <th>uid</th>\n",
       "      <td>0</td>\n",
       "      <td>0.000000</td>\n",
       "    </tr>\n",
       "    <tr>\n",
       "      <th>device</th>\n",
       "      <td>6</td>\n",
       "      <td>0.000245</td>\n",
       "    </tr>\n",
       "    <tr>\n",
       "      <th>song_id</th>\n",
       "      <td>6</td>\n",
       "      <td>0.000245</td>\n",
       "    </tr>\n",
       "    <tr>\n",
       "      <th>song_type</th>\n",
       "      <td>6</td>\n",
       "      <td>0.000245</td>\n",
       "    </tr>\n",
       "    <tr>\n",
       "      <th>song_name</th>\n",
       "      <td>659</td>\n",
       "      <td>0.026858</td>\n",
       "    </tr>\n",
       "    <tr>\n",
       "      <th>singer</th>\n",
       "      <td>1311</td>\n",
       "      <td>0.053432</td>\n",
       "    </tr>\n",
       "    <tr>\n",
       "      <th>play_time</th>\n",
       "      <td>1312</td>\n",
       "      <td>0.053472</td>\n",
       "    </tr>\n",
       "    <tr>\n",
       "      <th>song_length</th>\n",
       "      <td>1312</td>\n",
       "      <td>0.053472</td>\n",
       "    </tr>\n",
       "    <tr>\n",
       "      <th>paid_flag</th>\n",
       "      <td>1312</td>\n",
       "      <td>0.053472</td>\n",
       "    </tr>\n",
       "  </tbody>\n",
       "</table>\n",
       "</div>"
      ],
      "text/plain": [
       "             miss cnt  miss prcnt %\n",
       "uid                 0      0.000000\n",
       "device              6      0.000245\n",
       "song_id             6      0.000245\n",
       "song_type           6      0.000245\n",
       "song_name         659      0.026858\n",
       "singer           1311      0.053432\n",
       "play_time        1312      0.053472\n",
       "song_length      1312      0.053472\n",
       "paid_flag        1312      0.053472"
      ]
     },
     "execution_count": 10,
     "metadata": {},
     "output_type": "execute_result"
    }
   ],
   "source": [
    "# exame the missing values\n",
    "pd.DataFrame({\"miss cnt\" : df.isnull().sum(axis = 0),\n",
    "              \"miss prcnt %\" : df.isnull().sum(axis = 0) / df.shape[0] * 100\n",
    "             }\n",
    "            )"
   ]
  },
  {
   "cell_type": "code",
   "execution_count": 11,
   "metadata": {},
   "outputs": [
    {
     "data": {
      "text/html": [
       "<div>\n",
       "<style scoped>\n",
       "    .dataframe tbody tr th:only-of-type {\n",
       "        vertical-align: middle;\n",
       "    }\n",
       "\n",
       "    .dataframe tbody tr th {\n",
       "        vertical-align: top;\n",
       "    }\n",
       "\n",
       "    .dataframe thead th {\n",
       "        text-align: right;\n",
       "    }\n",
       "</style>\n",
       "<table border=\"1\" class=\"dataframe\">\n",
       "  <thead>\n",
       "    <tr style=\"text-align: right;\">\n",
       "      <th></th>\n",
       "      <th>uid</th>\n",
       "      <th>device</th>\n",
       "      <th>song_id</th>\n",
       "      <th>song_type</th>\n",
       "      <th>song_name</th>\n",
       "      <th>singer</th>\n",
       "      <th>play_time</th>\n",
       "      <th>song_length</th>\n",
       "      <th>paid_flag</th>\n",
       "    </tr>\n",
       "  </thead>\n",
       "  <tbody>\n",
       "    <tr>\n",
       "      <th>0</th>\n",
       "      <td>264715</td>\n",
       "      <td>None</td>\n",
       "      <td>None</td>\n",
       "      <td>None</td>\n",
       "      <td>None</td>\n",
       "      <td>None</td>\n",
       "      <td>None</td>\n",
       "      <td>None</td>\n",
       "      <td>None</td>\n",
       "    </tr>\n",
       "    <tr>\n",
       "      <th>1</th>\n",
       "      <td>292363</td>\n",
       "      <td>None</td>\n",
       "      <td>None</td>\n",
       "      <td>None</td>\n",
       "      <td>None</td>\n",
       "      <td>None</td>\n",
       "      <td>None</td>\n",
       "      <td>None</td>\n",
       "      <td>None</td>\n",
       "    </tr>\n",
       "    <tr>\n",
       "      <th>774430</th>\n",
       "      <td>264715</td>\n",
       "      <td>None</td>\n",
       "      <td>None</td>\n",
       "      <td>None</td>\n",
       "      <td>None</td>\n",
       "      <td>None</td>\n",
       "      <td>None</td>\n",
       "      <td>None</td>\n",
       "      <td>None</td>\n",
       "    </tr>\n",
       "    <tr>\n",
       "      <th>774431</th>\n",
       "      <td>292363</td>\n",
       "      <td>None</td>\n",
       "      <td>None</td>\n",
       "      <td>None</td>\n",
       "      <td>None</td>\n",
       "      <td>None</td>\n",
       "      <td>None</td>\n",
       "      <td>None</td>\n",
       "      <td>None</td>\n",
       "    </tr>\n",
       "    <tr>\n",
       "      <th>1628541</th>\n",
       "      <td>264715</td>\n",
       "      <td>None</td>\n",
       "      <td>None</td>\n",
       "      <td>None</td>\n",
       "      <td>None</td>\n",
       "      <td>None</td>\n",
       "      <td>None</td>\n",
       "      <td>None</td>\n",
       "      <td>None</td>\n",
       "    </tr>\n",
       "    <tr>\n",
       "      <th>1628542</th>\n",
       "      <td>292363</td>\n",
       "      <td>None</td>\n",
       "      <td>None</td>\n",
       "      <td>None</td>\n",
       "      <td>None</td>\n",
       "      <td>None</td>\n",
       "      <td>None</td>\n",
       "      <td>None</td>\n",
       "      <td>None</td>\n",
       "    </tr>\n",
       "  </tbody>\n",
       "</table>\n",
       "</div>"
      ],
      "text/plain": [
       "            uid device song_id song_type song_name singer play_time  \\\n",
       "0        264715   None    None      None      None   None      None   \n",
       "1        292363   None    None      None      None   None      None   \n",
       "774430   264715   None    None      None      None   None      None   \n",
       "774431   292363   None    None      None      None   None      None   \n",
       "1628541  264715   None    None      None      None   None      None   \n",
       "1628542  292363   None    None      None      None   None      None   \n",
       "\n",
       "        song_length paid_flag  \n",
       "0              None      None  \n",
       "1              None      None  \n",
       "774430         None      None  \n",
       "774431         None      None  \n",
       "1628541        None      None  \n",
       "1628542        None      None  "
      ]
     },
     "execution_count": 11,
     "metadata": {},
     "output_type": "execute_result"
    }
   ],
   "source": [
    "# any entries that miss all feature values (except uid)?\n",
    "df.loc[df.isnull().sum(axis = 1)>= df.shape[1]-1]"
   ]
  },
  {
   "cell_type": "code",
   "execution_count": 12,
   "metadata": {},
   "outputs": [
    {
     "data": {
      "text/html": [
       "<div>\n",
       "<style scoped>\n",
       "    .dataframe tbody tr th:only-of-type {\n",
       "        vertical-align: middle;\n",
       "    }\n",
       "\n",
       "    .dataframe tbody tr th {\n",
       "        vertical-align: top;\n",
       "    }\n",
       "\n",
       "    .dataframe thead th {\n",
       "        text-align: right;\n",
       "    }\n",
       "</style>\n",
       "<table border=\"1\" class=\"dataframe\">\n",
       "  <thead>\n",
       "    <tr style=\"text-align: right;\">\n",
       "      <th></th>\n",
       "      <th>uid</th>\n",
       "      <th>device</th>\n",
       "      <th>song_id</th>\n",
       "      <th>song_type</th>\n",
       "      <th>song_name</th>\n",
       "      <th>singer</th>\n",
       "      <th>play_time</th>\n",
       "      <th>song_length</th>\n",
       "      <th>paid_flag</th>\n",
       "    </tr>\n",
       "  </thead>\n",
       "  <tbody>\n",
       "  </tbody>\n",
       "</table>\n",
       "</div>"
      ],
      "text/plain": [
       "Empty DataFrame\n",
       "Columns: [uid, device, song_id, song_type, song_name, singer, play_time, song_length, paid_flag]\n",
       "Index: []"
      ]
     },
     "execution_count": 12,
     "metadata": {},
     "output_type": "execute_result"
    }
   ],
   "source": [
    "# these lines add no value. Therefore remove.\n",
    "df.drop(df.loc[df.isnull().sum(axis = 1)>= df.shape[1]-1].index, inplace = True)\n",
    "df.loc[df.isnull().sum(axis = 1)>= df.shape[1]-1]"
   ]
  },
  {
   "cell_type": "markdown",
   "metadata": {},
   "source": [
    "The uid has no missing values.\n",
    "\n",
    "\n",
    "Next step is to exame the data column by column"
   ]
  },
  {
   "cell_type": "markdown",
   "metadata": {},
   "source": [
    "1)  Device"
   ]
  },
  {
   "cell_type": "code",
   "execution_count": 13,
   "metadata": {},
   "outputs": [
    {
     "data": {
      "text/plain": [
       "array(['ar ', 'ip ', '1 ', '29 ', '37 ', '23 ', '35 ', '25 ', '40 ', '28 ',\n",
       "       '32 ', '49 ', '2 ', '50 ', '0 ', '53 ', '52 ', '41 ', '168 ', '30 ',\n",
       "       '24 ', '45 ', '44 ', '4 ', '31 ', '5 ', '7 ', '12 ', '27 ', '22 ',\n",
       "       '26 ', '21 ', '38 ', '34 ', '8 ', '173 ', '14 ', '17 ', '33 ',\n",
       "       '11 ', '20 ', '18 ', '423 ', '43 ', '1204 ', '1203 ', '985 ',\n",
       "       '1201 ', '10 ', '3 ', '16 ', '6 ', '177 ', '60 ', '63 ', '55 ',\n",
       "       '42 ', '19 ', '13 ', '47 ', '295 ', '202 ', '46 ', '197 ', '48 ',\n",
       "       '54 ', '36 ', '39 ', '62 ', '57 ', '234 ', '9 ', '59 ', '172 ',\n",
       "       '134 ', '72 ', '257 ', '15 ', '239 ', '195 ', '58 ', '64 ', '51 ',\n",
       "       '68 ', '146 ', ' '], dtype=object)"
      ]
     },
     "execution_count": 13,
     "metadata": {},
     "output_type": "execute_result"
    }
   ],
   "source": [
    "# exam the device column, and find that the column is contaminted by digits.\n",
    "df['device'].unique()"
   ]
  },
  {
   "cell_type": "code",
   "execution_count": 14,
   "metadata": {},
   "outputs": [
    {
     "data": {
      "text/plain": [
       "ar     2071343\n",
       "ip      381605\n",
       "0           47\n",
       "33          30\n",
       "32          28\n",
       "30          26\n",
       "29          25\n",
       "28          24\n",
       "1           23\n",
       "31          21\n",
       "20          19\n",
       "23          18\n",
       "34          17\n",
       "26          14\n",
       "4           13\n",
       "38          13\n",
       "2           13\n",
       "27          13\n",
       "3           12\n",
       "35          12\n",
       "Name: device, dtype: int64"
      ]
     },
     "execution_count": 14,
     "metadata": {},
     "output_type": "execute_result"
    }
   ],
   "source": [
    "df['device'].value_counts().head(20)"
   ]
  },
  {
   "cell_type": "code",
   "execution_count": 15,
   "metadata": {},
   "outputs": [
    {
     "name": "stdout",
     "output_type": "stream",
     "text": [
      "Other Values: 653\n"
     ]
    },
    {
     "data": {
      "text/plain": [
       "ar     2071343\n",
       "ip      381605\n",
       "Name: device, dtype: int64"
      ]
     },
     "execution_count": 15,
     "metadata": {},
     "output_type": "execute_result"
    }
   ],
   "source": [
    "# based on the research, the device should only be either \"ar\" or \"ip\". Clear the other values.\n",
    "print(\"Other Values:\", df['device'].loc[(df['device'].str.strip()!='ar') & (df['device'].str.strip()!='ip')].count())\n",
    "df['device'].loc[(df['device'].str.strip()!='ar') & (df['device'].str.strip()!='ip')] = None\n",
    "df['device'].value_counts()"
   ]
  },
  {
   "cell_type": "code",
   "execution_count": 16,
   "metadata": {},
   "outputs": [
    {
     "data": {
      "text/plain": [
       "array([<matplotlib.axes._subplots.AxesSubplot object at 0x1141147b8>], dtype=object)"
      ]
     },
     "execution_count": 16,
     "metadata": {},
     "output_type": "execute_result"
    },
    {
     "data": {
      "image/png": "[encoded data removed]",
      "text/plain": [
       "<matplotlib.figure.Figure at 0x1140d59e8>"
      ]
     },
     "metadata": {},
     "output_type": "display_data"
    }
   ],
   "source": [
    "pd.DataFrame(df['device'].value_counts()).plot(kind = 'bar', subplots = True)"
   ]
  },
  {
   "cell_type": "markdown",
   "metadata": {},
   "source": [
    "\"ar\" users outweights the \"ip\" users. if the consolidated data shows the same issue, dowmsampling may be required."
   ]
  },
  {
   "cell_type": "markdown",
   "metadata": {},
   "source": [
    "2) song_id"
   ]
  },
  {
   "cell_type": "code",
   "execution_count": 17,
   "metadata": {},
   "outputs": [
    {
     "data": {
      "text/plain": [
       "array(['3300104 ', '6651913 ', '20870987 ', ..., '4749440 ', '692645 ',\n",
       "       '3335630 '], dtype=object)"
      ]
     },
     "execution_count": 17,
     "metadata": {},
     "output_type": "execute_result"
    }
   ],
   "source": [
    "df['song_id'].unique()"
   ]
  },
  {
   "cell_type": "markdown",
   "metadata": {},
   "source": [
    "song_id should be all digits. check if any entry contains characters."
   ]
  },
  {
   "cell_type": "code",
   "execution_count": 18,
   "metadata": {},
   "outputs": [
    {
     "data": {
      "text/plain": [
       "                             8050\n",
       "620(1.63.112.157)TM            10\n",
       "35(112.12.40.230)TM             8\n",
       "(1.63.112.157)TM                7\n",
       "666069(182.245.19.208)TM        6\n",
       "61485(182.240.247.203)TM        6\n",
       "9(153.0.241.185)TM              5\n",
       "2(123.11.113.20)TM              5\n",
       "438220(223.245.138.63)TM        5\n",
       "40567(223.244.66.80)TM          4\n",
       "620(61.167.200.157)TM           4\n",
       "35(117.149.49.177)TM            4\n",
       "39795(112.11.80.15)TM           4\n",
       "5911(39.183.138.207)TM          4\n",
       "(61.167.200.157)TM              4\n",
       "67059(114.106.26.149)TM         4\n",
       "140138(114.106.26.149)TM        4\n",
       "69(61.167.200.157)TM            4\n",
       "6(112.11.206.101)TM             4\n",
       "4203733(1.63.112.157)TM         3\n",
       "Name: song_id, dtype: int64"
      ]
     },
     "execution_count": 18,
     "metadata": {},
     "output_type": "execute_result"
    }
   ],
   "source": [
    "song_id_num = pd.to_numeric(df['song_id'], errors = 'coerce')\n",
    "df['song_id'][pd.isna(song_id_num)].value_counts().head(20)"
   ]
  },
  {
   "cell_type": "code",
   "execution_count": 19,
   "metadata": {},
   "outputs": [
    {
     "data": {
      "text/plain": [
       "198     None\n",
       "387     None\n",
       "410     None\n",
       "2888    None\n",
       "3002    None\n",
       "Name: song_id, dtype: object"
      ]
     },
     "execution_count": 19,
     "metadata": {},
     "output_type": "execute_result"
    }
   ],
   "source": [
    "# clear the song_id's that contain characters\n",
    "df['song_id'][pd.isna(song_id_num)] = None\n",
    "df['song_id'][pd.isna(song_id_num)].head(5)"
   ]
  },
  {
   "cell_type": "markdown",
   "metadata": {},
   "source": [
    "3) song_type"
   ]
  },
  {
   "cell_type": "code",
   "execution_count": 20,
   "metadata": {},
   "outputs": [
    {
     "data": {
      "text/plain": [
       "0                        2149504\n",
       "1                         265979\n",
       "2                          25324\n",
       "                           12017\n",
       "0                            653\n",
       "(61.167.200.227)TM             7\n",
       "(1.63.112.157)TM               4\n",
       "(220.165.106.60)TM             3\n",
       "(112.12.41.169)TM              3\n",
       "(39.183.144.164)TM             3\n",
       "(112.12.65.34)TM               3\n",
       "0(220.165.107.67)TM            3\n",
       "(61.166.159.252)TM             3\n",
       "(111.19.112.138)TM             3\n",
       "(182.243.25.180)TM             3\n",
       "0(220.165.106.60)TM            2\n",
       "(223.104.145.19)TM             2\n",
       "(223.94.196.10)TM              2\n",
       "0(61.167.200.227)TM            2\n",
       "0(1.63.112.157)TM              2\n",
       "0(112.11.86.34)TM              2\n",
       "(117.148.125.119)TM            2\n",
       "0(39.187.200.55)TM             2\n",
       "0(39.188.144.196)TM            2\n",
       "0(117.148.119.127)TM           2\n",
       "1(180.109.27.103)TM            2\n",
       "0(39.183.138.207)TM            2\n",
       "0(116.249.186.241)TM           2\n",
       "0(182.246.211.72)TM            2\n",
       "0(112.11.194.110)TM            1\n",
       "                          ...   \n",
       "2(117.87.25.173)TM             1\n",
       "(180.95.144.116)TM             1\n",
       "0(101.27.30.222)TM             1\n",
       "(112.12.48.11)TM               1\n",
       "0(112.12.76.245)TM             1\n",
       "(175.8.207.51)TM               1\n",
       "(117.148.119.127)TM            1\n",
       "0(175.8.207.51)TM              1\n",
       "0(39.183.144.253)TM            1\n",
       "0(39.183.143.118)TM            1\n",
       "0(112.112.126.163)TM           1\n",
       "(116.249.186.230)TM            1\n",
       "(182.246.21.238)TM             1\n",
       "2(36.185.43.193)TM             1\n",
       "2(223.104.130.31)TM            1\n",
       "(117.149.49.128)TM             1\n",
       "(39.188.144.196)TM             1\n",
       "(180.143.207.132)TM            1\n",
       "0(39.183.144.51)TM             1\n",
       "(117.148.81.95)TM              1\n",
       "(220.248.200.131)TM            1\n",
       "0(117.148.124.31)TM            1\n",
       "0(111.19.112.144)TM            1\n",
       "0(117.173.98.18)TM             1\n",
       "0(182.243.25.53)TM             1\n",
       "(36.162.248.19)TM              1\n",
       "0(140.243.14.232)TM            1\n",
       "(223.104.13.157)TM             1\n",
       "0(183.198.244.196)TM           1\n",
       "0(39.189.228.43)TM             1\n",
       "Name: song_type, Length: 90, dtype: int64"
      ]
     },
     "execution_count": 20,
     "metadata": {},
     "output_type": "execute_result"
    }
   ],
   "source": [
    "df['song_type'].value_counts()"
   ]
  },
  {
   "cell_type": "markdown",
   "metadata": {},
   "source": [
    "see characters in the field. Process the columns in the same way as song_id"
   ]
  },
  {
   "cell_type": "code",
   "execution_count": 21,
   "metadata": {},
   "outputs": [
    {
     "data": {
      "text/plain": [
       "                        12017\n",
       "(61.167.200.227)TM          7\n",
       "(1.63.112.157)TM            4\n",
       "(112.12.65.34)TM            3\n",
       "(112.12.41.169)TM           3\n",
       "0(220.165.107.67)TM         3\n",
       "(39.183.144.164)TM          3\n",
       "(182.243.25.180)TM          3\n",
       "(220.165.106.60)TM          3\n",
       "(111.19.112.138)TM          3\n",
       "(61.166.159.252)TM          3\n",
       "(117.148.125.119)TM         2\n",
       "1(180.109.27.103)TM         2\n",
       "0(39.188.144.196)TM         2\n",
       "0(1.63.112.157)TM           2\n",
       "0(61.167.200.227)TM         2\n",
       "0(39.183.138.207)TM         2\n",
       "0(182.246.211.72)TM         2\n",
       "(223.94.196.10)TM           2\n",
       "(223.104.145.19)TM          2\n",
       "Name: song_type, dtype: int64"
      ]
     },
     "execution_count": 21,
     "metadata": {},
     "output_type": "execute_result"
    }
   ],
   "source": [
    "song_type_num = pd.to_numeric(df['song_type'], errors = 'coerce')\n",
    "df['song_type'][pd.isna(song_type_num)].value_counts().head(20)"
   ]
  },
  {
   "cell_type": "code",
   "execution_count": 22,
   "metadata": {},
   "outputs": [
    {
     "data": {
      "text/plain": [
       "198    None\n",
       "387    None\n",
       "410    None\n",
       "464    None\n",
       "610    None\n",
       "Name: song_type, dtype: object"
      ]
     },
     "execution_count": 22,
     "metadata": {},
     "output_type": "execute_result"
    }
   ],
   "source": [
    "# clear the song_type's that contain characters\n",
    "df['song_type'][pd.isna(song_type_num)] = None\n",
    "df['song_type'][pd.isna(song_type_num)].head(5)"
   ]
  },
  {
   "cell_type": "markdown",
   "metadata": {},
   "source": [
    "4) Song Name could be any character. Therefore it is hard to spot errors"
   ]
  },
  {
   "cell_type": "code",
   "execution_count": 23,
   "metadata": {},
   "outputs": [
    {
     "data": {
      "text/plain": [
       "哆啦A梦伴我同行                               14\n",
       "哆啦A梦(23秒铃声版)                           12\n",
       "向日葵的约定-(3D动画电影《哆啦A梦                     7\n",
       "哆啦A梦                                    6\n",
       "哆啦A梦(《哆啦A梦》动漫主题曲)                       5\n",
       "哆啦A梦休假                                  4\n",
       "向日葵的约定-(3D动画电影《哆啦A梦：伴我同行》官方中文版主题曲)      4\n",
       "向日葵的约定(3D动画电影《哆啦A梦：伴我同行》官方中文版主题曲)       4\n",
       "哆啦A梦主题歌                                 2\n",
       "【诸葛亮×王司徒】联唱哆啦A梦 蓝胖子之歌                   2\n",
       "Name: song_name, dtype: int64"
      ]
     },
     "execution_count": 23,
     "metadata": {},
     "output_type": "execute_result"
    }
   ],
   "source": [
    "# take a deep look on the song names\n",
    "df['song_name'][df['song_name'].str.find('哆啦A梦') != -1].value_counts().head(10)"
   ]
  },
  {
   "cell_type": "markdown",
   "metadata": {},
   "source": [
    "5) singer. Check if contain special characters"
   ]
  },
  {
   "cell_type": "code",
   "execution_count": 24,
   "metadata": {},
   "outputs": [
    {
     "data": {
      "text/plain": [
       "未知歌手        77392\n",
       "网络歌手        70541\n",
       "儿童歌曲        47099\n",
       "薛之谦         36741\n",
       "张杰          35402\n",
       "李玉刚         30709\n",
       "手机铃声        28708\n",
       "张碧晨&杨宗纬     26345\n",
       "庄心妍         25650\n",
       "赵雷          25103\n",
       "周杰伦         21226\n",
       "降央卓玛        21191\n",
       "凤凰传奇        20844\n",
       "铃声          20458\n",
       "DJ舞曲        18414\n",
       "祁隆          18081\n",
       "TFBOYS      17049\n",
       "孙露          16997\n",
       "张学友         16031\n",
       "邓丽君         14695\n",
       "Name: singer, dtype: int64"
      ]
     },
     "execution_count": 24,
     "metadata": {},
     "output_type": "execute_result"
    }
   ],
   "source": [
    "df['singer'].value_counts().head(20)"
   ]
  },
  {
   "cell_type": "code",
   "execution_count": 25,
   "metadata": {},
   "outputs": [
    {
     "data": {
      "text/plain": [
       "【娱+543】小水 男声女声分不清楚~~     6\n",
       "ぷ雨~蝶~                    4\n",
       "【娱+】小水 琪宝宝又来了哈哈~~~       3\n",
       "雪儿~~~                    2\n",
       "金猪-﹏小乔~                  2\n",
       "Ｃhinａ小甜甜 虎牙甜开心快乐每一天~     1\n",
       "Q型地带ピ~                   1\n",
       "Sound.L~萌子               1\n",
       "⒐⒏0⒏ゞ甜甜，甜甜是宝 丢了难找~!@     1\n",
       "涵涵~~                     1\n",
       "Name: singer, dtype: int64"
      ]
     },
     "execution_count": 25,
     "metadata": {},
     "output_type": "execute_result"
    }
   ],
   "source": [
    "# take a deep look on the singers\n",
    "df['singer'][df['singer'].str.find(r'~') != -1].value_counts().head(10)"
   ]
  },
  {
   "cell_type": "code",
   "execution_count": 26,
   "metadata": {
    "collapsed": true
   },
   "outputs": [],
   "source": [
    "# remoce the special characters\n",
    "df['singer'] = df['singer'].str.replace(r'?','')"
   ]
  },
  {
   "cell_type": "markdown",
   "metadata": {},
   "source": [
    "6) play time in seconds"
   ]
  },
  {
   "cell_type": "code",
   "execution_count": 27,
   "metadata": {},
   "outputs": [
    {
     "data": {
      "text/plain": [
       "                           15037\n",
       "5>(121.12.5.95)TM             59\n",
       "5>=(183.198.238.54)TM         35\n",
       "5>(27.199.224.213)TM          34\n",
       "5>\u000f}(27.199.224.213)TM        27\n",
       "Name: play_time, dtype: int64"
      ]
     },
     "execution_count": 27,
     "metadata": {},
     "output_type": "execute_result"
    }
   ],
   "source": [
    "play_time_num = pd.to_numeric(df['play_time'],errors = 'coerce')\n",
    "df['play_time'][pd.isna(play_time_num)].value_counts().head()"
   ]
  },
  {
   "cell_type": "code",
   "execution_count": 28,
   "metadata": {},
   "outputs": [
    {
     "data": {
      "text/plain": [
       "127    NaN\n",
       "198    NaN\n",
       "410    NaN\n",
       "456    NaN\n",
       "633    NaN\n",
       "794    NaN\n",
       "1147   NaN\n",
       "1211   NaN\n",
       "1921   NaN\n",
       "2420   NaN\n",
       "2486   NaN\n",
       "2529   NaN\n",
       "2600   NaN\n",
       "2888   NaN\n",
       "2903   NaN\n",
       "2963   NaN\n",
       "3002   NaN\n",
       "3105   NaN\n",
       "3389   NaN\n",
       "3567   NaN\n",
       "Name: play_time, dtype: float64"
      ]
     },
     "execution_count": 28,
     "metadata": {},
     "output_type": "execute_result"
    }
   ],
   "source": [
    "# convert the value into numerics\n",
    "df['play_time'] = pd.to_numeric(df['play_time'],errors = 'coerce')\n",
    "df['play_time'][pd.isna(df['play_time'])].head(20)"
   ]
  },
  {
   "cell_type": "markdown",
   "metadata": {},
   "source": [
    "7) song length"
   ]
  },
  {
   "cell_type": "code",
   "execution_count": 29,
   "metadata": {},
   "outputs": [
    {
     "data": {
      "text/plain": [
       "                         7660\n",
       "2(116.249.186.241)TM       11\n",
       "(114.106.26.149)TM          8\n",
       "(111.19.75.66)TM            5\n",
       "2(118.124.229.106)TM        4\n",
       "Name: song_length, dtype: int64"
      ]
     },
     "execution_count": 29,
     "metadata": {},
     "output_type": "execute_result"
    }
   ],
   "source": [
    "song_length_num = pd.to_numeric(df['song_length'],errors = 'coerce')\n",
    "df['song_length'][pd.isna(song_length_num)].value_counts().head()"
   ]
  },
  {
   "cell_type": "code",
   "execution_count": 30,
   "metadata": {},
   "outputs": [
    {
     "data": {
      "text/plain": [
       "198     NaN\n",
       "410     NaN\n",
       "2888    NaN\n",
       "3002    NaN\n",
       "3567    NaN\n",
       "3895    NaN\n",
       "4116    NaN\n",
       "4322    NaN\n",
       "4968    NaN\n",
       "4991    NaN\n",
       "7464    NaN\n",
       "8096    NaN\n",
       "8104    NaN\n",
       "8248    NaN\n",
       "10354   NaN\n",
       "10895   NaN\n",
       "12074   NaN\n",
       "13010   NaN\n",
       "13202   NaN\n",
       "13998   NaN\n",
       "Name: song_length, dtype: float64"
      ]
     },
     "execution_count": 30,
     "metadata": {},
     "output_type": "execute_result"
    }
   ],
   "source": [
    "# convert the value into numerics\n",
    "df['song_length'] = pd.to_numeric(df['song_length'],errors = 'coerce')\n",
    "df['song_length'][pd.isna(df['song_length'])].head(20)"
   ]
  },
  {
   "cell_type": "code",
   "execution_count": 31,
   "metadata": {},
   "outputs": [
    {
     "name": "stdout",
     "output_type": "stream",
     "text": [
      "play_time > song_length 239819\n"
     ]
    },
    {
     "data": {
      "text/html": [
       "<div>\n",
       "<style scoped>\n",
       "    .dataframe tbody tr th:only-of-type {\n",
       "        vertical-align: middle;\n",
       "    }\n",
       "\n",
       "    .dataframe tbody tr th {\n",
       "        vertical-align: top;\n",
       "    }\n",
       "\n",
       "    .dataframe thead th {\n",
       "        text-align: right;\n",
       "    }\n",
       "</style>\n",
       "<table border=\"1\" class=\"dataframe\">\n",
       "  <thead>\n",
       "    <tr style=\"text-align: right;\">\n",
       "      <th></th>\n",
       "      <th>uid</th>\n",
       "      <th>device</th>\n",
       "      <th>song_id</th>\n",
       "      <th>song_type</th>\n",
       "      <th>song_name</th>\n",
       "      <th>singer</th>\n",
       "      <th>play_time</th>\n",
       "      <th>song_length</th>\n",
       "      <th>paid_flag</th>\n",
       "    </tr>\n",
       "  </thead>\n",
       "  <tbody>\n",
       "    <tr>\n",
       "      <th>6</th>\n",
       "      <td>154798546</td>\n",
       "      <td>ar</td>\n",
       "      <td>2632638</td>\n",
       "      <td>0</td>\n",
       "      <td>旋转的潮流</td>\n",
       "      <td>Della</td>\n",
       "      <td>783.0</td>\n",
       "      <td>0.0</td>\n",
       "      <td>0</td>\n",
       "    </tr>\n",
       "    <tr>\n",
       "      <th>8</th>\n",
       "      <td>154785205</td>\n",
       "      <td>ar</td>\n",
       "      <td>502774</td>\n",
       "      <td>0</td>\n",
       "      <td>阿拉伯之夜</td>\n",
       "      <td>群星</td>\n",
       "      <td>10.0</td>\n",
       "      <td>0.0</td>\n",
       "      <td>0</td>\n",
       "    </tr>\n",
       "    <tr>\n",
       "      <th>12</th>\n",
       "      <td>154826319</td>\n",
       "      <td>ar</td>\n",
       "      <td>4251791</td>\n",
       "      <td>0</td>\n",
       "      <td>爱(2010年春晚歌曲 2010春晚歌曲)</td>\n",
       "      <td>小虎队</td>\n",
       "      <td>27962.0</td>\n",
       "      <td>0.0</td>\n",
       "      <td>0</td>\n",
       "    </tr>\n",
       "    <tr>\n",
       "      <th>47</th>\n",
       "      <td>154439223</td>\n",
       "      <td>ar</td>\n",
       "      <td>19380090</td>\n",
       "      <td>1</td>\n",
       "      <td>找不到我们家啊</td>\n",
       "      <td>Mad Clown&amp;脸红的思春期</td>\n",
       "      <td>215713.0</td>\n",
       "      <td>215.0</td>\n",
       "      <td>0</td>\n",
       "    </tr>\n",
       "    <tr>\n",
       "      <th>55</th>\n",
       "      <td>154439844</td>\n",
       "      <td>ar</td>\n",
       "      <td>20870989</td>\n",
       "      <td>1</td>\n",
       "      <td>Writing's on the wall</td>\n",
       "      <td>林志炫</td>\n",
       "      <td>290110.0</td>\n",
       "      <td>290.0</td>\n",
       "      <td>0</td>\n",
       "    </tr>\n",
       "    <tr>\n",
       "      <th>64</th>\n",
       "      <td>154439227</td>\n",
       "      <td>ar</td>\n",
       "      <td>6685516</td>\n",
       "      <td>0</td>\n",
       "      <td>我最红</td>\n",
       "      <td>2NE1</td>\n",
       "      <td>209627.0</td>\n",
       "      <td>210.0</td>\n",
       "      <td>0</td>\n",
       "    </tr>\n",
       "    <tr>\n",
       "      <th>67</th>\n",
       "      <td>154440199</td>\n",
       "      <td>ar</td>\n",
       "      <td>20940997</td>\n",
       "      <td>0</td>\n",
       "      <td>向往-(电视剧《鸡毛飞上天》主题曲)</td>\n",
       "      <td>孙楠</td>\n",
       "      <td>246523.0</td>\n",
       "      <td>246.0</td>\n",
       "      <td>0</td>\n",
       "    </tr>\n",
       "    <tr>\n",
       "      <th>68</th>\n",
       "      <td>154439442</td>\n",
       "      <td>ar</td>\n",
       "      <td>20870992</td>\n",
       "      <td>0</td>\n",
       "      <td>盛夏光年</td>\n",
       "      <td>林忆莲</td>\n",
       "      <td>223061.0</td>\n",
       "      <td>223.0</td>\n",
       "      <td>0</td>\n",
       "    </tr>\n",
       "    <tr>\n",
       "      <th>73</th>\n",
       "      <td>154439867</td>\n",
       "      <td>ar</td>\n",
       "      <td>20870988</td>\n",
       "      <td>1</td>\n",
       "      <td>三十岁的女人</td>\n",
       "      <td>赵雷</td>\n",
       "      <td>321689.0</td>\n",
       "      <td>321.0</td>\n",
       "      <td>0</td>\n",
       "    </tr>\n",
       "    <tr>\n",
       "      <th>74</th>\n",
       "      <td>154782535</td>\n",
       "      <td>ar</td>\n",
       "      <td>703874</td>\n",
       "      <td>1</td>\n",
       "      <td>数鸭子</td>\n",
       "      <td>儿童歌曲</td>\n",
       "      <td>76751.0</td>\n",
       "      <td>77.0</td>\n",
       "      <td>0</td>\n",
       "    </tr>\n",
       "    <tr>\n",
       "      <th>86</th>\n",
       "      <td>154440282</td>\n",
       "      <td>ar</td>\n",
       "      <td>20940997</td>\n",
       "      <td>0</td>\n",
       "      <td>向往-(电视剧《鸡毛飞上天》主题曲)</td>\n",
       "      <td>孙楠</td>\n",
       "      <td>246327.0</td>\n",
       "      <td>246.0</td>\n",
       "      <td>0</td>\n",
       "    </tr>\n",
       "    <tr>\n",
       "      <th>87</th>\n",
       "      <td>154439737</td>\n",
       "      <td>ar</td>\n",
       "      <td>20870990</td>\n",
       "      <td>1</td>\n",
       "      <td>很想很想说再见</td>\n",
       "      <td>侧田</td>\n",
       "      <td>323129.0</td>\n",
       "      <td>323.0</td>\n",
       "      <td>0</td>\n",
       "    </tr>\n",
       "    <tr>\n",
       "      <th>110</th>\n",
       "      <td>154682805</td>\n",
       "      <td>ar</td>\n",
       "      <td>7029035</td>\n",
       "      <td>0</td>\n",
       "      <td>激光雨(伴奏版)</td>\n",
       "      <td>MC赵小涣</td>\n",
       "      <td>10.0</td>\n",
       "      <td>0.0</td>\n",
       "      <td>0</td>\n",
       "    </tr>\n",
       "    <tr>\n",
       "      <th>112</th>\n",
       "      <td>37025504</td>\n",
       "      <td>ar</td>\n",
       "      <td>6260426</td>\n",
       "      <td>0</td>\n",
       "      <td>黄昏的故乡</td>\n",
       "      <td>江蕙</td>\n",
       "      <td>202.0</td>\n",
       "      <td>0.0</td>\n",
       "      <td>0</td>\n",
       "    </tr>\n",
       "    <tr>\n",
       "      <th>113</th>\n",
       "      <td>154439870</td>\n",
       "      <td>ar</td>\n",
       "      <td>20870988</td>\n",
       "      <td>1</td>\n",
       "      <td>三十岁的女人</td>\n",
       "      <td>赵雷</td>\n",
       "      <td>321689.0</td>\n",
       "      <td>321.0</td>\n",
       "      <td>0</td>\n",
       "    </tr>\n",
       "    <tr>\n",
       "      <th>117</th>\n",
       "      <td>154439698</td>\n",
       "      <td>ar</td>\n",
       "      <td>20273751</td>\n",
       "      <td>1</td>\n",
       "      <td>繁花-(电视剧《三生三世十里桃花》插曲)</td>\n",
       "      <td>董贞</td>\n",
       "      <td>225419.0</td>\n",
       "      <td>225.0</td>\n",
       "      <td>0</td>\n",
       "    </tr>\n",
       "    <tr>\n",
       "      <th>128</th>\n",
       "      <td>154439281</td>\n",
       "      <td>ar</td>\n",
       "      <td>930655</td>\n",
       "      <td>1</td>\n",
       "      <td>万水千山总是情</td>\n",
       "      <td>汪明荃</td>\n",
       "      <td>178561.0</td>\n",
       "      <td>178.0</td>\n",
       "      <td>0</td>\n",
       "    </tr>\n",
       "    <tr>\n",
       "      <th>135</th>\n",
       "      <td>154439868</td>\n",
       "      <td>ar</td>\n",
       "      <td>20870988</td>\n",
       "      <td>1</td>\n",
       "      <td>三十岁的女人</td>\n",
       "      <td>赵雷</td>\n",
       "      <td>321689.0</td>\n",
       "      <td>321.0</td>\n",
       "      <td>0</td>\n",
       "    </tr>\n",
       "    <tr>\n",
       "      <th>141</th>\n",
       "      <td>154440305</td>\n",
       "      <td>ar</td>\n",
       "      <td>20940997</td>\n",
       "      <td>0</td>\n",
       "      <td>向往-(电视剧《鸡毛飞上天》主题曲)</td>\n",
       "      <td>孙楠</td>\n",
       "      <td>246819.0</td>\n",
       "      <td>246.0</td>\n",
       "      <td>0</td>\n",
       "    </tr>\n",
       "    <tr>\n",
       "      <th>157</th>\n",
       "      <td>154439970</td>\n",
       "      <td>ar</td>\n",
       "      <td>20870987</td>\n",
       "      <td>1</td>\n",
       "      <td>哥哥</td>\n",
       "      <td>张杰</td>\n",
       "      <td>358563.0</td>\n",
       "      <td>358.0</td>\n",
       "      <td>0</td>\n",
       "    </tr>\n",
       "  </tbody>\n",
       "</table>\n",
       "</div>"
      ],
      "text/plain": [
       "            uid device    song_id song_type               song_name  \\\n",
       "6    154798546     ar    2632638         0                   旋转的潮流    \n",
       "8    154785205     ar     502774         0                   阿拉伯之夜    \n",
       "12   154826319     ar    4251791         0   爱(2010年春晚歌曲 2010春晚歌曲)    \n",
       "47   154439223     ar   19380090         1                 找不到我们家啊    \n",
       "55   154439844     ar   20870989         1   Writing's on the wall    \n",
       "64   154439227     ar    6685516         0                     我最红    \n",
       "67   154440199     ar   20940997         0      向往-(电视剧《鸡毛飞上天》主题曲)    \n",
       "68   154439442     ar   20870992         0                    盛夏光年    \n",
       "73   154439867     ar   20870988         1                  三十岁的女人    \n",
       "74   154782535     ar     703874         1                     数鸭子    \n",
       "86   154440282     ar   20940997         0      向往-(电视剧《鸡毛飞上天》主题曲)    \n",
       "87   154439737     ar   20870990         1                 很想很想说再见    \n",
       "110  154682805     ar    7029035         0                激光雨(伴奏版)    \n",
       "112   37025504     ar    6260426         0                   黄昏的故乡    \n",
       "113  154439870     ar   20870988         1                  三十岁的女人    \n",
       "117  154439698     ar   20273751         1    繁花-(电视剧《三生三世十里桃花》插曲)    \n",
       "128  154439281     ar     930655         1                 万水千山总是情    \n",
       "135  154439868     ar   20870988         1                  三十岁的女人    \n",
       "141  154440305     ar   20940997         0      向往-(电视剧《鸡毛飞上天》主题曲)    \n",
       "157  154439970     ar   20870987         1                      哥哥    \n",
       "\n",
       "                singer  play_time  song_length paid_flag  \n",
       "6               Della       783.0          0.0         0  \n",
       "8                  群星        10.0          0.0         0  \n",
       "12                小虎队     27962.0          0.0         0  \n",
       "47   Mad Clown&脸红的思春期    215713.0        215.0         0  \n",
       "55                林志炫    290110.0        290.0         0  \n",
       "64               2NE1    209627.0        210.0         0  \n",
       "67                 孙楠    246523.0        246.0         0  \n",
       "68                林忆莲    223061.0        223.0         0  \n",
       "73                 赵雷    321689.0        321.0         0  \n",
       "74               儿童歌曲     76751.0         77.0         0  \n",
       "86                 孙楠    246327.0        246.0         0  \n",
       "87                 侧田    323129.0        323.0         0  \n",
       "110             MC赵小涣        10.0          0.0         0  \n",
       "112                江蕙       202.0          0.0         0  \n",
       "113                赵雷    321689.0        321.0         0  \n",
       "117                董贞    225419.0        225.0         0  \n",
       "128               汪明荃    178561.0        178.0         0  \n",
       "135                赵雷    321689.0        321.0         0  \n",
       "141                孙楠    246819.0        246.0         0  \n",
       "157                张杰    358563.0        358.0         0  "
      ]
     },
     "execution_count": 31,
     "metadata": {},
     "output_type": "execute_result"
    }
   ],
   "source": [
    "# the play_time should not be longer than the song_length\n",
    "print(\"play_time > song_length\", df.loc[df['play_time']> df['song_length'] * 1.5].shape[0])\n",
    "df.loc[df['play_time']> df['song_length'] * 1.5].head(20)"
   ]
  },
  {
   "cell_type": "markdown",
   "metadata": {},
   "source": [
    "8) Paid flag"
   ]
  },
  {
   "cell_type": "code",
   "execution_count": 33,
   "metadata": {},
   "outputs": [
    {
     "data": {
      "text/plain": [
       "0          2452269\n",
       "415             14\n",
       "0                3\n",
       "252              2\n",
       "109411           1\n",
       "105039           1\n",
       "238              1\n",
       "108947           1\n",
       "\"                1\n",
       "237              1\n",
       "288              1\n",
       "Name: paid_flag, dtype: int64"
      ]
     },
     "execution_count": 33,
     "metadata": {},
     "output_type": "execute_result"
    }
   ],
   "source": [
    "df['paid_flag'].value_counts()"
   ]
  },
  {
   "cell_type": "code",
   "execution_count": null,
   "metadata": {
    "collapsed": true
   },
   "outputs": [],
   "source": [
    "# flag should only be 0 or 1. There is no 1 in the column. So clear the cells with values other than 0."
   ]
  },
  {
   "cell_type": "code",
   "execution_count": 47,
   "metadata": {},
   "outputs": [
    {
     "name": "stderr",
     "output_type": "stream",
     "text": [
      "/Users/tianyuanluo/anaconda3/lib/python3.6/site-packages/ipykernel_launcher.py:2: SettingWithCopyWarning: \n",
      "A value is trying to be set on a copy of a slice from a DataFrame\n",
      "\n",
      "See the caveats in the documentation: http://pandas.pydata.org/pandas-docs/stable/indexing.html#indexing-view-versus-copy\n",
      "  \n"
     ]
    },
    {
     "data": {
      "text/plain": [
       "0    2453601\n",
       "Name: paid_flag, dtype: int64"
      ]
     },
     "execution_count": 47,
     "metadata": {},
     "output_type": "execute_result"
    }
   ],
   "source": [
    "df['paid_flag'][(df['paid_flag'].str.strip() != '0') & (df['paid_flag'].str.strip() != '1')]\n",
    "df['paid_flag'][df['paid_flag'].str.find('0') != -1] = '0'\n",
    "df['paid_flag'].value_counts()"
   ]
  },
  {
   "cell_type": "markdown",
   "metadata": {},
   "source": [
    "9) Add the new feature, date, from the file name"
   ]
  },
  {
   "cell_type": "code",
   "execution_count": 62,
   "metadata": {
    "collapsed": true
   },
   "outputs": [],
   "source": [
    "df['log_date'] = filename.split('_')[0]\n",
    "df['log_date'] = pd.to_datetime(df['log_date'], yearfirst = True, format = '%Y-%m-%d')"
   ]
  },
  {
   "cell_type": "code",
   "execution_count": 63,
   "metadata": {},
   "outputs": [
    {
     "name": "stdout",
     "output_type": "stream",
     "text": [
      "<class 'pandas.core.frame.DataFrame'>\n",
      "Int64Index: 2453601 entries, 2 to 2453606\n",
      "Data columns (total 10 columns):\n",
      "uid            object\n",
      "device         object\n",
      "song_id        object\n",
      "song_type      object\n",
      "song_name      object\n",
      "singer         object\n",
      "play_time      float64\n",
      "song_length    float64\n",
      "paid_flag      object\n",
      "log_date       datetime64[ns]\n",
      "dtypes: datetime64[ns](1), float64(2), object(7)\n",
      "memory usage: 285.9+ MB\n"
     ]
    }
   ],
   "source": [
    "df.info()"
   ]
  },
  {
   "cell_type": "markdown",
   "metadata": {},
   "source": [
    "### In summary, the play_log should be processed through the following steps:\n",
    "\n",
    "    1) Only load the first 9 columns based on the schema\n",
    "\n",
    "    2) Remove the rows with all None's except the uid column\n",
    "\n",
    "    3) Clear the device types other than 'ar' or 'ip'\n",
    "\n",
    "    4) Clear the song id's with non-numerical characters\n",
    "\n",
    "    5) Clear the song types with non-numerical characters\n",
    "\n",
    "    6) Remove \"?\" from the singer names\n",
    "\n",
    "    7) Convert the play_time into float\n",
    "\n",
    "    8) Convert the song_length into float\n",
    "\n",
    "    9) Clear the paid_flag with other than \"0\" or \"1\"\n",
    "    \n",
    "    10) add the log_date from the first 8 characters of the file name"
   ]
  },
  {
   "cell_type": "markdown",
   "metadata": {},
   "source": [
    "## 4. Pre-processing download log"
   ]
  },
  {
   "cell_type": "code",
   "execution_count": 64,
   "metadata": {
    "collapsed": true
   },
   "outputs": [],
   "source": [
    "# load an example"
   ]
  },
  {
   "cell_type": "code",
   "execution_count": 65,
   "metadata": {
    "collapsed": true
   },
   "outputs": [],
   "source": [
    "import pandas as pd\n",
    "import numpy as np\n",
    "import matplotlib.pyplot as plt\n",
    "import os\n",
    "\n",
    "%matplotlib inline\n",
    "\n",
    "zippath = r'./Data'\n",
    "unzippath = r'./UnzipData'"
   ]
  },
  {
   "cell_type": "code",
   "execution_count": 66,
   "metadata": {},
   "outputs": [
    {
     "name": "stdout",
     "output_type": "stream",
     "text": [
      "<class 'pandas.core.frame.DataFrame'>\n",
      "RangeIndex: 160261 entries, 0 to 160260\n",
      "Data columns (total 6 columns):\n",
      "uid          160261 non-null object\n",
      "device       160261 non-null object\n",
      "song_id      160073 non-null float64\n",
      "song_name    160073 non-null object\n",
      "singer       159885 non-null object\n",
      "paid_flag    159885 non-null object\n",
      "dtypes: float64(1), object(5)\n",
      "memory usage: 7.3+ MB\n"
     ]
    }
   ],
   "source": [
    "filename = '30_1_down.log'\n",
    "\n",
    "schema = ['uid','device','song_id','song_name','singer','paid_flag']\n",
    "df_1 = pd.read_csv(os.path.join(unzippath, filename), sep = '\\t+',header = None, index_col = None, names = schema, usecols = [0,1,2,3,4,5], engine = 'python')\n",
    "\n",
    "df_1.info()"
   ]
  },
  {
   "cell_type": "code",
   "execution_count": 82,
   "metadata": {},
   "outputs": [
    {
     "data": {
      "text/html": [
       "<div>\n",
       "<style scoped>\n",
       "    .dataframe tbody tr th:only-of-type {\n",
       "        vertical-align: middle;\n",
       "    }\n",
       "\n",
       "    .dataframe tbody tr th {\n",
       "        vertical-align: top;\n",
       "    }\n",
       "\n",
       "    .dataframe thead th {\n",
       "        text-align: right;\n",
       "    }\n",
       "</style>\n",
       "<table border=\"1\" class=\"dataframe\">\n",
       "  <thead>\n",
       "    <tr style=\"text-align: right;\">\n",
       "      <th></th>\n",
       "      <th>uid</th>\n",
       "      <th>device</th>\n",
       "      <th>song_id</th>\n",
       "      <th>song_name</th>\n",
       "      <th>singer</th>\n",
       "      <th>paid_flag</th>\n",
       "    </tr>\n",
       "  </thead>\n",
       "  <tbody>\n",
       "    <tr>\n",
       "      <th>0</th>\n",
       "      <td>168019810</td>\n",
       "      <td>ar</td>\n",
       "      <td>442554.0</td>\n",
       "      <td>小酒窝</td>\n",
       "      <td>林俊杰&amp;蔡卓妍</td>\n",
       "      <td>0</td>\n",
       "    </tr>\n",
       "    <tr>\n",
       "      <th>1</th>\n",
       "      <td>168019810</td>\n",
       "      <td>ar</td>\n",
       "      <td>6334611.0</td>\n",
       "      <td>社会摇</td>\n",
       "      <td>萧全</td>\n",
       "      <td>0</td>\n",
       "    </tr>\n",
       "    <tr>\n",
       "      <th>2</th>\n",
       "      <td>168019810</td>\n",
       "      <td>ar</td>\n",
       "      <td>9867382.0</td>\n",
       "      <td>台阶</td>\n",
       "      <td>武艺</td>\n",
       "      <td>0</td>\n",
       "    </tr>\n",
       "    <tr>\n",
       "      <th>3</th>\n",
       "      <td>168019810</td>\n",
       "      <td>ar</td>\n",
       "      <td>6660691.0</td>\n",
       "      <td>一次就好-(电影《夏洛特烦恼》暖水曲)</td>\n",
       "      <td>杨宗纬</td>\n",
       "      <td>0</td>\n",
       "    </tr>\n",
       "    <tr>\n",
       "      <th>4</th>\n",
       "      <td>168019810</td>\n",
       "      <td>ar</td>\n",
       "      <td>157606.0</td>\n",
       "      <td>一路上有你</td>\n",
       "      <td>张学友</td>\n",
       "      <td>0</td>\n",
       "    </tr>\n",
       "  </tbody>\n",
       "</table>\n",
       "</div>"
      ],
      "text/plain": [
       "          uid device    song_id             song_name    singer paid_flag\n",
       "0  168019810     ar    442554.0                  小酒窝   林俊杰&蔡卓妍          0\n",
       "1  168019810     ar   6334611.0                  社会摇        萧全          0\n",
       "2  168019810     ar   9867382.0                   台阶        武艺          0\n",
       "3  168019810     ar   6660691.0  一次就好-(电影《夏洛特烦恼》暖水曲)       杨宗纬          0\n",
       "4  168019810     ar    157606.0                一路上有你       张学友          0"
      ]
     },
     "execution_count": 82,
     "metadata": {},
     "output_type": "execute_result"
    }
   ],
   "source": [
    "df_1.head()"
   ]
  },
  {
   "cell_type": "markdown",
   "metadata": {},
   "source": [
    "1) uid"
   ]
  },
  {
   "cell_type": "code",
   "execution_count": 74,
   "metadata": {},
   "outputs": [
    {
     "name": "stdout",
     "output_type": "stream",
     "text": [
      "total 13444 unique id's, 8.39% of the entire rows.\n"
     ]
    }
   ],
   "source": [
    "# how unique the column is?\n",
    "\n",
    "print (\"total {0} unique id's, {1}% of the entire rows.\".format(len(df_1['uid'].unique()), \n",
    "                                             round(len(df_1['uid'].unique()) / df_1.shape[0]*100,2)))"
   ]
  },
  {
   "cell_type": "markdown",
   "metadata": {},
   "source": [
    "2) device"
   ]
  },
  {
   "cell_type": "code",
   "execution_count": 75,
   "metadata": {},
   "outputs": [
    {
     "data": {
      "text/plain": [
       "ar     128349\n",
       "ip      31724\n",
       "0         188\n",
       "Name: device, dtype: int64"
      ]
     },
     "execution_count": 75,
     "metadata": {},
     "output_type": "execute_result"
    }
   ],
   "source": [
    "df_1['device'].value_counts()"
   ]
  },
  {
   "cell_type": "code",
   "execution_count": 81,
   "metadata": {},
   "outputs": [
    {
     "data": {
      "text/plain": [
       "ar     128349\n",
       "ip      31724\n",
       "Name: device, dtype: int64"
      ]
     },
     "execution_count": 81,
     "metadata": {},
     "output_type": "execute_result"
    }
   ],
   "source": [
    "# device should only be \"ar\" or \"ip\". Clear other values\n",
    "\n",
    "df_1.loc[(df_1['device'].str.strip()!='ar') & (df_1['device'].str.strip()!='ip'),'device'] = None\n",
    "df_1['device'].value_counts()"
   ]
  },
  {
   "cell_type": "markdown",
   "metadata": {},
   "source": [
    "3) song_id"
   ]
  },
  {
   "cell_type": "code",
   "execution_count": 91,
   "metadata": {},
   "outputs": [
    {
     "name": "stderr",
     "output_type": "stream",
     "text": [
      "/Users/tianyuanluo/anaconda3/lib/python3.6/site-packages/ipykernel_launcher.py:3: SettingWithCopyWarning: \n",
      "A value is trying to be set on a copy of a slice from a DataFrame\n",
      "\n",
      "See the caveats in the documentation: http://pandas.pydata.org/pandas-docs/stable/indexing.html#indexing-view-versus-copy\n",
      "  This is separate from the ipykernel package so we can avoid doing imports until\n"
     ]
    }
   ],
   "source": [
    "# still try to detect and remoce characters from the song_id.\n",
    "song_id_num = pd.to_numeric(df_1['song_id'], errors = 'coerce')\n",
    "df_1['song_id'][pd.isna(song_id_num)] = None\n",
    "df_1['song_id'] = df_1['song_id'].astype(str)"
   ]
  },
  {
   "cell_type": "markdown",
   "metadata": {},
   "source": [
    "4) song_name"
   ]
  },
  {
   "cell_type": "code",
   "execution_count": 94,
   "metadata": {},
   "outputs": [
    {
     "data": {
      "text/plain": [
       "2212        你相信前世今生吗?(灵异事件簿Vol.481) \n",
       "3366             劲歌?金曲 2 (情歌王) (国语) \n",
       "3774                            None\n",
       "3801                            None\n",
       "4066               Do You Remember? \n",
       "4456                      “抢红包”谁赚了? \n",
       "6117     【rap】我的农药居然这么带感?这一定是假的王者荣耀 \n",
       "6482                            None\n",
       "7125                    你是最好的!你知道吗? \n",
       "7310               Are you the one? \n",
       "7735                            None\n",
       "8565                            None\n",
       "10325                           None\n",
       "10565                           None\n",
       "11823          拥抱我【【???-yang】】 - 伴奏 \n",
       "11868                           None\n",
       "12146                           None\n",
       "12301                           None\n",
       "12390                    难道爱一个人有错吗? \n",
       "12653                           None\n",
       "Name: song_name, dtype: object"
      ]
     },
     "execution_count": 94,
     "metadata": {},
     "output_type": "execute_result"
    }
   ],
   "source": [
    "# replace the special characters from the song name\n",
    "df_1['song_name'][df_1['song_name'].str.find(\"?\")!=-1].head(20)"
   ]
  },
  {
   "cell_type": "code",
   "execution_count": 103,
   "metadata": {},
   "outputs": [
    {
     "data": {
      "text/plain": [
       "3774     None\n",
       "3801     None\n",
       "6482     None\n",
       "7735     None\n",
       "8565     None\n",
       "10325    None\n",
       "10565    None\n",
       "11868    None\n",
       "12146    None\n",
       "12301    None\n",
       "12653    None\n",
       "12872    None\n",
       "13736    None\n",
       "15531    None\n",
       "16102    None\n",
       "16538    None\n",
       "16571    None\n",
       "18065    None\n",
       "22808    None\n",
       "23438    None\n",
       "Name: song_name, dtype: object"
      ]
     },
     "execution_count": 103,
     "metadata": {},
     "output_type": "execute_result"
    }
   ],
   "source": [
    "df_1['song_name'] = df_1['song_name'].str.replace('?','')\n",
    "df_1['song_name'][df_1['song_name'].str.find(\"?\")!=-1].head(20)"
   ]
  },
  {
   "cell_type": "markdown",
   "metadata": {},
   "source": [
    "5) singer"
   ]
  },
  {
   "cell_type": "code",
   "execution_count": 104,
   "metadata": {},
   "outputs": [
    {
     "data": {
      "text/plain": [
       "3773     None\n",
       "3774     None\n",
       "3800     None\n",
       "3801     None\n",
       "6481     None\n",
       "6482     None\n",
       "7734     None\n",
       "7735     None\n",
       "8564     None\n",
       "8565     None\n",
       "10324    None\n",
       "10325    None\n",
       "10564    None\n",
       "10565    None\n",
       "11867    None\n",
       "11868    None\n",
       "12145    None\n",
       "12146    None\n",
       "12300    None\n",
       "12301    None\n",
       "Name: singer, dtype: object"
      ]
     },
     "execution_count": 104,
     "metadata": {},
     "output_type": "execute_result"
    }
   ],
   "source": [
    "# replace the special characters from the song name\n",
    "df_1['singer'][df_1['singer'].str.find(\"?\")!=-1].head(20)"
   ]
  },
  {
   "cell_type": "markdown",
   "metadata": {},
   "source": [
    "6) Paid flag"
   ]
  },
  {
   "cell_type": "code",
   "execution_count": 106,
   "metadata": {},
   "outputs": [
    {
     "data": {
      "text/plain": [
       "0               159884\n",
       "Ten Nararak          1\n",
       "Name: paid_flag, dtype: int64"
      ]
     },
     "execution_count": 106,
     "metadata": {},
     "output_type": "execute_result"
    }
   ],
   "source": [
    "# inspect the column values\n",
    "df_1['paid_flag'].value_counts()"
   ]
  },
  {
   "cell_type": "code",
   "execution_count": 108,
   "metadata": {},
   "outputs": [
    {
     "name": "stderr",
     "output_type": "stream",
     "text": [
      "/Users/tianyuanluo/anaconda3/lib/python3.6/site-packages/ipykernel_launcher.py:2: SettingWithCopyWarning: \n",
      "A value is trying to be set on a copy of a slice from a DataFrame\n",
      "\n",
      "See the caveats in the documentation: http://pandas.pydata.org/pandas-docs/stable/indexing.html#indexing-view-versus-copy\n",
      "  \n"
     ]
    },
    {
     "data": {
      "text/plain": [
       "0    159884\n",
       "Name: paid_flag, dtype: int64"
      ]
     },
     "execution_count": 108,
     "metadata": {},
     "output_type": "execute_result"
    }
   ],
   "source": [
    "# should be only either 0 or 1. Clear the other values.\n",
    "df_1['paid_flag'][(df_1['paid_flag'].str.strip()!='0') & (df_1['paid_flag'].str.strip()!='1')] = None\n",
    "df_1['paid_flag'].value_counts()"
   ]
  },
  {
   "cell_type": "markdown",
   "metadata": {},
   "source": [
    "### In summary, the download_log should be processed through the following steps:\n",
    "\n",
    "    1) Only load the first 6 columns based on the schema\n",
    "\n",
    "    2) Remove the rows with all None's except the uid column\n",
    "\n",
    "    3) Clear the device types other than 'ar' or 'ip'\n",
    "\n",
    "    4) Clear the song id's with non-numerical characters\n",
    "\n",
    "    5) Clear the song types with non-numerical characters\n",
    "\n",
    "    6) Remove \"?\" from the singer names\n",
    "\n",
    "    7) Clear the paid_flag with other than \"0\" or \"1\""
   ]
  },
  {
   "cell_type": "markdown",
   "metadata": {
    "collapsed": true
   },
   "source": [
    "## 5. Pre-processing Search log"
   ]
  },
  {
   "cell_type": "code",
   "execution_count": 3,
   "metadata": {
    "collapsed": true
   },
   "outputs": [],
   "source": [
    "# losd an exmaple"
   ]
  },
  {
   "cell_type": "code",
   "execution_count": 4,
   "metadata": {
    "collapsed": true
   },
   "outputs": [],
   "source": [
    "import pandas as pd\n",
    "import numpy as np\n",
    "import matplotlib.pyplot as plt\n",
    "import os\n",
    "\n",
    "%matplotlib inline\n",
    "\n",
    "zippath = r'./Data'\n",
    "unzippath = r'./UnzipData'"
   ]
  },
  {
   "cell_type": "code",
   "execution_count": 6,
   "metadata": {},
   "outputs": [
    {
     "name": "stdout",
     "output_type": "stream",
     "text": [
      "<class 'pandas.core.frame.DataFrame'>\n",
      "RangeIndex: 685870 entries, 0 to 685869\n",
      "Data columns (total 4 columns):\n",
      "uid             685870 non-null int64\n",
      "device          685870 non-null object\n",
      "time_stamp      685870 non-null object\n",
      "search_query    685870 non-null object\n",
      "dtypes: int64(1), object(3)\n",
      "memory usage: 20.9+ MB\n"
     ]
    }
   ],
   "source": [
    "filename = '1_1_search.log'\n",
    "\n",
    "schema = ['uid','device','time_stamp','search_query']\n",
    "df_2 = pd.read_csv(os.path.join(unzippath, filename), sep = '\\t+',header = None, index_col = None, names = schema, usecols = [0,1,2,3], engine = 'python')\n",
    "\n",
    "df_2.info()"
   ]
  },
  {
   "cell_type": "code",
   "execution_count": 7,
   "metadata": {},
   "outputs": [
    {
     "data": {
      "text/html": [
       "<div>\n",
       "<style scoped>\n",
       "    .dataframe tbody tr th:only-of-type {\n",
       "        vertical-align: middle;\n",
       "    }\n",
       "\n",
       "    .dataframe tbody tr th {\n",
       "        vertical-align: top;\n",
       "    }\n",
       "\n",
       "    .dataframe thead th {\n",
       "        text-align: right;\n",
       "    }\n",
       "</style>\n",
       "<table border=\"1\" class=\"dataframe\">\n",
       "  <thead>\n",
       "    <tr style=\"text-align: right;\">\n",
       "      <th></th>\n",
       "      <th>uid</th>\n",
       "      <th>device</th>\n",
       "      <th>time_stamp</th>\n",
       "      <th>search_query</th>\n",
       "    </tr>\n",
       "  </thead>\n",
       "  <tbody>\n",
       "    <tr>\n",
       "      <th>0</th>\n",
       "      <td>154436633</td>\n",
       "      <td>ip</td>\n",
       "      <td>2017-03-01 00:00:24</td>\n",
       "      <td>%e9%83%ad%e5%be%b7%e7%ba%b2</td>\n",
       "    </tr>\n",
       "    <tr>\n",
       "      <th>1</th>\n",
       "      <td>154407262</td>\n",
       "      <td>ar</td>\n",
       "      <td>2017-03-01 00:00:53</td>\n",
       "      <td>%E6%AF%AF%E5%AD%90%E8%88%9E</td>\n",
       "    </tr>\n",
       "    <tr>\n",
       "      <th>2</th>\n",
       "      <td>154407854</td>\n",
       "      <td>ip</td>\n",
       "      <td>2017-03-01 00:00:54</td>\n",
       "      <td>%e7%96%a4%2d%20%28%e7%94%b5%e8%a7%86%e5%89%a7%...</td>\n",
       "    </tr>\n",
       "    <tr>\n",
       "      <th>3</th>\n",
       "      <td>154407252</td>\n",
       "      <td>ar</td>\n",
       "      <td>2017-03-01 00:00:55</td>\n",
       "      <td>%E6%88%91%E8%A6%81%E5%88%9B%E4%B8%9A++%E5%94%9...</td>\n",
       "    </tr>\n",
       "    <tr>\n",
       "      <th>4</th>\n",
       "      <td>154407327</td>\n",
       "      <td>ar</td>\n",
       "      <td>2017-03-01 00:00:55</td>\n",
       "      <td>%E4%B8%AB%E5%A4%B4++%E7%8E%8B%E7%AB%A5%E8%AF%AD</td>\n",
       "    </tr>\n",
       "  </tbody>\n",
       "</table>\n",
       "</div>"
      ],
      "text/plain": [
       "         uid device            time_stamp  \\\n",
       "0  154436633    ip   2017-03-01 00:00:24    \n",
       "1  154407262    ar   2017-03-01 00:00:53    \n",
       "2  154407854    ip   2017-03-01 00:00:54    \n",
       "3  154407252    ar   2017-03-01 00:00:55    \n",
       "4  154407327    ar   2017-03-01 00:00:55    \n",
       "\n",
       "                                        search_query  \n",
       "0                        %e9%83%ad%e5%be%b7%e7%ba%b2  \n",
       "1                        %E6%AF%AF%E5%AD%90%E8%88%9E  \n",
       "2  %e7%96%a4%2d%20%28%e7%94%b5%e8%a7%86%e5%89%a7%...  \n",
       "3  %E6%88%91%E8%A6%81%E5%88%9B%E4%B8%9A++%E5%94%9...  \n",
       "4    %E4%B8%AB%E5%A4%B4++%E7%8E%8B%E7%AB%A5%E8%AF%AD  "
      ]
     },
     "execution_count": 7,
     "metadata": {},
     "output_type": "execute_result"
    }
   ],
   "source": [
    "df_2.head()"
   ]
  },
  {
   "cell_type": "markdown",
   "metadata": {},
   "source": [
    "1) uid"
   ]
  },
  {
   "cell_type": "code",
   "execution_count": 16,
   "metadata": {},
   "outputs": [
    {
     "data": {
      "text/html": [
       "<div>\n",
       "<style scoped>\n",
       "    .dataframe tbody tr th:only-of-type {\n",
       "        vertical-align: middle;\n",
       "    }\n",
       "\n",
       "    .dataframe tbody tr th {\n",
       "        vertical-align: top;\n",
       "    }\n",
       "\n",
       "    .dataframe thead th {\n",
       "        text-align: right;\n",
       "    }\n",
       "</style>\n",
       "<table border=\"1\" class=\"dataframe\">\n",
       "  <thead>\n",
       "    <tr style=\"text-align: right;\">\n",
       "      <th></th>\n",
       "      <th>uid</th>\n",
       "      <th>device</th>\n",
       "      <th>time_stamp</th>\n",
       "      <th>search_query</th>\n",
       "    </tr>\n",
       "  </thead>\n",
       "  <tbody>\n",
       "  </tbody>\n",
       "</table>\n",
       "</div>"
      ],
      "text/plain": [
       "Empty DataFrame\n",
       "Columns: [uid, device, time_stamp, search_query]\n",
       "Index: []"
      ]
     },
     "execution_count": 16,
     "metadata": {},
     "output_type": "execute_result"
    }
   ],
   "source": [
    "# any null?\n",
    "df_2.loc[pd.isnull(df_2['uid']),:]"
   ]
  },
  {
   "cell_type": "code",
   "execution_count": null,
   "metadata": {
    "collapsed": true
   },
   "outputs": [],
   "source": [
    "# how unique the value is?\n"
   ]
  },
  {
   "cell_type": "code",
   "execution_count": null,
   "metadata": {
    "collapsed": true
   },
   "outputs": [],
   "source": []
  }
 ],
 "metadata": {
  "kernelspec": {
   "display_name": "Python 3",
   "language": "python",
   "name": "python3"
  },
  "language_info": {
   "codemirror_mode": {
    "name": "ipython",
    "version": 3
   },
   "file_extension": ".py",
   "mimetype": "text/x-python",
   "name": "python",
   "nbconvert_exporter": "python",
   "pygments_lexer": "ipython3",
   "version": "3.6.3"
  }
 },
 "nbformat": 4,
 "nbformat_minor": 2
}
